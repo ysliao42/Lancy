{
 "cells": [
  {
   "cell_type": "code",
   "execution_count": 36,
   "metadata": {},
   "outputs": [],
   "source": [
    "import datetime\n",
    "import numpy as np\n",
    "import pandas as pd\n",
    "import quandl, math\n",
    "import pandas_datareader.data as web\n",
    "from  sklearn.model_selection  import  cross_validate\n",
    "from sklearn.model_selection import train_test_split\n",
    "from sklearn.linear_model import LinearRegression\n",
    "import matplotlib.pyplot as plt\n",
    "from matplotlib import style\n",
    "import datetime"
   ]
  },
  {
   "cell_type": "code",
   "execution_count": 37,
   "metadata": {},
   "outputs": [],
   "source": [
    "style.use('ggplot')"
   ]
  },
  {
   "cell_type": "code",
   "execution_count": 38,
   "metadata": {},
   "outputs": [],
   "source": [
    "\n",
    "start = datetime.datetime(2014, 12, 31)\n",
    "end = datetime.datetime(2019, 1, 3)\n",
    "# 台灣股市的話要用 股票代號 加上 .TW\n",
    "df_1526 = web.DataReader('4190.TW', 'yahoo', start, end)"
   ]
  },
  {
   "cell_type": "code",
   "execution_count": 39,
   "metadata": {},
   "outputs": [
    {
     "data": {
      "text/html": [
       "<div>\n",
       "<style scoped>\n",
       "    .dataframe tbody tr th:only-of-type {\n",
       "        vertical-align: middle;\n",
       "    }\n",
       "\n",
       "    .dataframe tbody tr th {\n",
       "        vertical-align: top;\n",
       "    }\n",
       "\n",
       "    .dataframe thead th {\n",
       "        text-align: right;\n",
       "    }\n",
       "</style>\n",
       "<table border=\"1\" class=\"dataframe\">\n",
       "  <thead>\n",
       "    <tr style=\"text-align: right;\">\n",
       "      <th></th>\n",
       "      <th>High</th>\n",
       "      <th>Low</th>\n",
       "      <th>Open</th>\n",
       "      <th>Close</th>\n",
       "      <th>Volume</th>\n",
       "      <th>Adj Close</th>\n",
       "    </tr>\n",
       "    <tr>\n",
       "      <th>Date</th>\n",
       "      <th></th>\n",
       "      <th></th>\n",
       "      <th></th>\n",
       "      <th></th>\n",
       "      <th></th>\n",
       "      <th></th>\n",
       "    </tr>\n",
       "  </thead>\n",
       "  <tbody>\n",
       "    <tr>\n",
       "      <th>2018-12-13</th>\n",
       "      <td>101.0</td>\n",
       "      <td>97.800003</td>\n",
       "      <td>99.400002</td>\n",
       "      <td>101.000000</td>\n",
       "      <td>1031204.0</td>\n",
       "      <td>101.000000</td>\n",
       "    </tr>\n",
       "    <tr>\n",
       "      <th>2018-12-14</th>\n",
       "      <td>101.5</td>\n",
       "      <td>98.199997</td>\n",
       "      <td>101.000000</td>\n",
       "      <td>100.500000</td>\n",
       "      <td>646001.0</td>\n",
       "      <td>100.500000</td>\n",
       "    </tr>\n",
       "    <tr>\n",
       "      <th>2018-12-17</th>\n",
       "      <td>102.0</td>\n",
       "      <td>99.099998</td>\n",
       "      <td>99.300003</td>\n",
       "      <td>99.500000</td>\n",
       "      <td>589057.0</td>\n",
       "      <td>99.500000</td>\n",
       "    </tr>\n",
       "    <tr>\n",
       "      <th>2018-12-18</th>\n",
       "      <td>101.0</td>\n",
       "      <td>97.099998</td>\n",
       "      <td>99.000000</td>\n",
       "      <td>98.000000</td>\n",
       "      <td>488000.0</td>\n",
       "      <td>98.000000</td>\n",
       "    </tr>\n",
       "    <tr>\n",
       "      <th>2018-12-19</th>\n",
       "      <td>101.5</td>\n",
       "      <td>99.199997</td>\n",
       "      <td>100.000000</td>\n",
       "      <td>99.199997</td>\n",
       "      <td>848012.0</td>\n",
       "      <td>99.199997</td>\n",
       "    </tr>\n",
       "    <tr>\n",
       "      <th>2018-12-20</th>\n",
       "      <td>101.5</td>\n",
       "      <td>97.300003</td>\n",
       "      <td>99.300003</td>\n",
       "      <td>101.500000</td>\n",
       "      <td>831264.0</td>\n",
       "      <td>101.500000</td>\n",
       "    </tr>\n",
       "    <tr>\n",
       "      <th>2018-12-21</th>\n",
       "      <td>103.5</td>\n",
       "      <td>99.599998</td>\n",
       "      <td>101.000000</td>\n",
       "      <td>100.500000</td>\n",
       "      <td>949020.0</td>\n",
       "      <td>100.500000</td>\n",
       "    </tr>\n",
       "    <tr>\n",
       "      <th>2018-12-24</th>\n",
       "      <td>105.5</td>\n",
       "      <td>101.500000</td>\n",
       "      <td>101.500000</td>\n",
       "      <td>104.000000</td>\n",
       "      <td>1438660.0</td>\n",
       "      <td>104.000000</td>\n",
       "    </tr>\n",
       "    <tr>\n",
       "      <th>2018-12-25</th>\n",
       "      <td>104.5</td>\n",
       "      <td>101.500000</td>\n",
       "      <td>102.000000</td>\n",
       "      <td>101.500000</td>\n",
       "      <td>900000.0</td>\n",
       "      <td>101.500000</td>\n",
       "    </tr>\n",
       "    <tr>\n",
       "      <th>2018-12-26</th>\n",
       "      <td>103.0</td>\n",
       "      <td>99.699997</td>\n",
       "      <td>102.000000</td>\n",
       "      <td>99.699997</td>\n",
       "      <td>562000.0</td>\n",
       "      <td>99.699997</td>\n",
       "    </tr>\n",
       "    <tr>\n",
       "      <th>2018-12-27</th>\n",
       "      <td>103.0</td>\n",
       "      <td>101.000000</td>\n",
       "      <td>102.000000</td>\n",
       "      <td>102.500000</td>\n",
       "      <td>740180.0</td>\n",
       "      <td>102.500000</td>\n",
       "    </tr>\n",
       "    <tr>\n",
       "      <th>2018-12-28</th>\n",
       "      <td>110.5</td>\n",
       "      <td>104.000000</td>\n",
       "      <td>104.000000</td>\n",
       "      <td>110.500000</td>\n",
       "      <td>3645467.0</td>\n",
       "      <td>110.500000</td>\n",
       "    </tr>\n",
       "    <tr>\n",
       "      <th>2019-01-02</th>\n",
       "      <td>120.0</td>\n",
       "      <td>112.500000</td>\n",
       "      <td>114.000000</td>\n",
       "      <td>118.000000</td>\n",
       "      <td>4401598.0</td>\n",
       "      <td>118.000000</td>\n",
       "    </tr>\n",
       "    <tr>\n",
       "      <th>2019-01-03</th>\n",
       "      <td>120.5</td>\n",
       "      <td>115.500000</td>\n",
       "      <td>117.000000</td>\n",
       "      <td>115.500000</td>\n",
       "      <td>3383026.0</td>\n",
       "      <td>115.500000</td>\n",
       "    </tr>\n",
       "  </tbody>\n",
       "</table>\n",
       "</div>"
      ],
      "text/plain": [
       "             High         Low        Open       Close     Volume   Adj Close\n",
       "Date                                                                        \n",
       "2018-12-13  101.0   97.800003   99.400002  101.000000  1031204.0  101.000000\n",
       "2018-12-14  101.5   98.199997  101.000000  100.500000   646001.0  100.500000\n",
       "2018-12-17  102.0   99.099998   99.300003   99.500000   589057.0   99.500000\n",
       "2018-12-18  101.0   97.099998   99.000000   98.000000   488000.0   98.000000\n",
       "2018-12-19  101.5   99.199997  100.000000   99.199997   848012.0   99.199997\n",
       "2018-12-20  101.5   97.300003   99.300003  101.500000   831264.0  101.500000\n",
       "2018-12-21  103.5   99.599998  101.000000  100.500000   949020.0  100.500000\n",
       "2018-12-24  105.5  101.500000  101.500000  104.000000  1438660.0  104.000000\n",
       "2018-12-25  104.5  101.500000  102.000000  101.500000   900000.0  101.500000\n",
       "2018-12-26  103.0   99.699997  102.000000   99.699997   562000.0   99.699997\n",
       "2018-12-27  103.0  101.000000  102.000000  102.500000   740180.0  102.500000\n",
       "2018-12-28  110.5  104.000000  104.000000  110.500000  3645467.0  110.500000\n",
       "2019-01-02  120.0  112.500000  114.000000  118.000000  4401598.0  118.000000\n",
       "2019-01-03  120.5  115.500000  117.000000  115.500000  3383026.0  115.500000"
      ]
     },
     "execution_count": 39,
     "metadata": {},
     "output_type": "execute_result"
    }
   ],
   "source": [
    "df_1526.tail(14)"
   ]
  },
  {
   "cell_type": "code",
   "execution_count": 40,
   "metadata": {},
   "outputs": [
    {
     "data": {
      "image/png": "[encoded data removed]",
      "text/plain": [
       "<Figure size 432x288 with 1 Axes>"
      ]
     },
     "metadata": {},
     "output_type": "display_data"
    }
   ],
   "source": [
    "df_1526['Adj Close'].plot()\n",
    "plt.show()"
   ]
  },
  {
   "cell_type": "code",
   "execution_count": 41,
   "metadata": {},
   "outputs": [],
   "source": [
    "forecast = int(math.ceil(0.01 * len(df_1526)))"
   ]
  },
  {
   "cell_type": "code",
   "execution_count": 42,
   "metadata": {},
   "outputs": [],
   "source": [
    "forecast_df_1526 = df_1526[-forecast:]"
   ]
  },
  {
   "cell_type": "code",
   "execution_count": 43,
   "metadata": {},
   "outputs": [
    {
     "data": {
      "text/plain": [
       "(8, 6)"
      ]
     },
     "execution_count": 43,
     "metadata": {},
     "output_type": "execute_result"
    }
   ],
   "source": [
    "forecast_df_1526.shape"
   ]
  },
  {
   "cell_type": "code",
   "execution_count": 44,
   "metadata": {},
   "outputs": [],
   "source": [
    "a1526_df = df_1526[:-forecast]"
   ]
  },
  {
   "cell_type": "code",
   "execution_count": 45,
   "metadata": {},
   "outputs": [
    {
     "data": {
      "text/plain": [
       "(778, 6)"
      ]
     },
     "execution_count": 45,
     "metadata": {},
     "output_type": "execute_result"
    }
   ],
   "source": [
    "a1526_df.shape"
   ]
  },
  {
   "cell_type": "code",
   "execution_count": 46,
   "metadata": {},
   "outputs": [],
   "source": [
    "X = np.array(a1526_df.drop(['Adj Close'], 1))"
   ]
  },
  {
   "cell_type": "code",
   "execution_count": 47,
   "metadata": {},
   "outputs": [],
   "source": [
    "y = np.array(a1526_df['Adj Close'])"
   ]
  },
  {
   "cell_type": "code",
   "execution_count": 48,
   "metadata": {},
   "outputs": [],
   "source": [
    "X_train, X_test, y_train, y_test = train_test_split(X, y, test_size=0.2)"
   ]
  },
  {
   "cell_type": "code",
   "execution_count": 49,
   "metadata": {},
   "outputs": [
    {
     "data": {
      "text/plain": [
       "LinearRegression(copy_X=True, fit_intercept=True, n_jobs=-1, normalize=False)"
      ]
     },
     "execution_count": 49,
     "metadata": {},
     "output_type": "execute_result"
    }
   ],
   "source": [
    "clf = LinearRegression(n_jobs=-1)\n",
    "clf.fit(X_train, y_train)"
   ]
  },
  {
   "cell_type": "code",
   "execution_count": 50,
   "metadata": {},
   "outputs": [
    {
     "name": "stdout",
     "output_type": "stream",
     "text": [
      "0.9936116006258122\n"
     ]
    }
   ],
   "source": [
    "confidence = clf.score(X_test, y_test)\n",
    "print(confidence)"
   ]
  },
  {
   "cell_type": "code",
   "execution_count": 51,
   "metadata": {},
   "outputs": [],
   "source": [
    "f_X=np.array(forecast_df_1526.drop(['Adj Close'], 1))\n",
    "forecast_set = clf.predict(f_X)"
   ]
  },
  {
   "cell_type": "code",
   "execution_count": 52,
   "metadata": {},
   "outputs": [
    {
     "name": "stderr",
     "output_type": "stream",
     "text": [
      "C:\\ProgramData\\Anaconda3\\lib\\site-packages\\ipykernel_launcher.py:1: SettingWithCopyWarning: \n",
      "A value is trying to be set on a copy of a slice from a DataFrame.\n",
      "Try using .loc[row_indexer,col_indexer] = value instead\n",
      "\n",
      "See the caveats in the documentation: http://pandas.pydata.org/pandas-docs/stable/indexing.html#indexing-view-versus-copy\n",
      "  \"\"\"Entry point for launching an IPython kernel.\n"
     ]
    }
   ],
   "source": [
    "a1526_df['Forecast'] = np.nan"
   ]
  },
  {
   "cell_type": "code",
   "execution_count": 53,
   "metadata": {},
   "outputs": [],
   "source": [
    "last_date = a1526_df.iloc[-1].name"
   ]
  },
  {
   "cell_type": "code",
   "execution_count": 54,
   "metadata": {},
   "outputs": [],
   "source": [
    "last_unix = last_date.timestamp()"
   ]
  },
  {
   "cell_type": "code",
   "execution_count": 55,
   "metadata": {},
   "outputs": [],
   "source": [
    "one_day = 86400"
   ]
  },
  {
   "cell_type": "code",
   "execution_count": 56,
   "metadata": {},
   "outputs": [],
   "source": [
    "next_unix = last_unix + one_day"
   ]
  },
  {
   "cell_type": "code",
   "execution_count": 57,
   "metadata": {},
   "outputs": [
    {
     "name": "stderr",
     "output_type": "stream",
     "text": [
      "C:\\ProgramData\\Anaconda3\\lib\\site-packages\\ipykernel_launcher.py:4: SettingWithCopyWarning: \n",
      "A value is trying to be set on a copy of a slice from a DataFrame\n",
      "\n",
      "See the caveats in the documentation: http://pandas.pydata.org/pandas-docs/stable/indexing.html#indexing-view-versus-copy\n",
      "  after removing the cwd from sys.path.\n"
     ]
    }
   ],
   "source": [
    "for i in forecast_set:\n",
    "    next_date = datetime.datetime.fromtimestamp(next_unix)\n",
    "    next_unix += 86400\n",
    "    a1526_df.loc[next_date] = [np.nan for _ in range(len(a1526_df.columns)-1)]+[i+14]"
   ]
  },
  {
   "cell_type": "code",
   "execution_count": 58,
   "metadata": {},
   "outputs": [
    {
     "data": {
      "text/html": [
       "<div>\n",
       "<style scoped>\n",
       "    .dataframe tbody tr th:only-of-type {\n",
       "        vertical-align: middle;\n",
       "    }\n",
       "\n",
       "    .dataframe tbody tr th {\n",
       "        vertical-align: top;\n",
       "    }\n",
       "\n",
       "    .dataframe thead th {\n",
       "        text-align: right;\n",
       "    }\n",
       "</style>\n",
       "<table border=\"1\" class=\"dataframe\">\n",
       "  <thead>\n",
       "    <tr style=\"text-align: right;\">\n",
       "      <th></th>\n",
       "      <th>High</th>\n",
       "      <th>Low</th>\n",
       "      <th>Open</th>\n",
       "      <th>Close</th>\n",
       "      <th>Volume</th>\n",
       "      <th>Adj Close</th>\n",
       "      <th>Forecast</th>\n",
       "    </tr>\n",
       "    <tr>\n",
       "      <th>Date</th>\n",
       "      <th></th>\n",
       "      <th></th>\n",
       "      <th></th>\n",
       "      <th></th>\n",
       "      <th></th>\n",
       "      <th></th>\n",
       "      <th></th>\n",
       "    </tr>\n",
       "  </thead>\n",
       "  <tbody>\n",
       "    <tr>\n",
       "      <th>2015-02-05</th>\n",
       "      <td>134.123993</td>\n",
       "      <td>134.123993</td>\n",
       "      <td>134.123993</td>\n",
       "      <td>134.123993</td>\n",
       "      <td>0.0</td>\n",
       "      <td>125.198349</td>\n",
       "      <td>NaN</td>\n",
       "    </tr>\n",
       "    <tr>\n",
       "      <th>2015-10-21</th>\n",
       "      <td>121.658997</td>\n",
       "      <td>104.706001</td>\n",
       "      <td>108.695000</td>\n",
       "      <td>121.658997</td>\n",
       "      <td>4868628.0</td>\n",
       "      <td>113.562874</td>\n",
       "      <td>NaN</td>\n",
       "    </tr>\n",
       "    <tr>\n",
       "      <th>2015-10-22</th>\n",
       "      <td>143.597000</td>\n",
       "      <td>118.667000</td>\n",
       "      <td>122.655998</td>\n",
       "      <td>138.610992</td>\n",
       "      <td>3865821.0</td>\n",
       "      <td>129.386749</td>\n",
       "      <td>NaN</td>\n",
       "    </tr>\n",
       "    <tr>\n",
       "      <th>2015-10-23</th>\n",
       "      <td>142.600006</td>\n",
       "      <td>132.128998</td>\n",
       "      <td>138.610992</td>\n",
       "      <td>135.619003</td>\n",
       "      <td>2191133.0</td>\n",
       "      <td>126.593872</td>\n",
       "      <td>NaN</td>\n",
       "    </tr>\n",
       "    <tr>\n",
       "      <th>2015-10-26</th>\n",
       "      <td>141.104004</td>\n",
       "      <td>134.621994</td>\n",
       "      <td>137.613998</td>\n",
       "      <td>134.621994</td>\n",
       "      <td>1327716.0</td>\n",
       "      <td>125.663216</td>\n",
       "      <td>NaN</td>\n",
       "    </tr>\n",
       "  </tbody>\n",
       "</table>\n",
       "</div>"
      ],
      "text/plain": [
       "                  High         Low        Open       Close     Volume  \\\n",
       "Date                                                                    \n",
       "2015-02-05  134.123993  134.123993  134.123993  134.123993        0.0   \n",
       "2015-10-21  121.658997  104.706001  108.695000  121.658997  4868628.0   \n",
       "2015-10-22  143.597000  118.667000  122.655998  138.610992  3865821.0   \n",
       "2015-10-23  142.600006  132.128998  138.610992  135.619003  2191133.0   \n",
       "2015-10-26  141.104004  134.621994  137.613998  134.621994  1327716.0   \n",
       "\n",
       "             Adj Close  Forecast  \n",
       "Date                              \n",
       "2015-02-05  125.198349       NaN  \n",
       "2015-10-21  113.562874       NaN  \n",
       "2015-10-22  129.386749       NaN  \n",
       "2015-10-23  126.593872       NaN  \n",
       "2015-10-26  125.663216       NaN  "
      ]
     },
     "execution_count": 58,
     "metadata": {},
     "output_type": "execute_result"
    }
   ],
   "source": [
    "a1526_df.head()"
   ]
  },
  {
   "cell_type": "code",
   "execution_count": 59,
   "metadata": {
    "scrolled": true
   },
   "outputs": [
    {
     "data": {
      "text/html": [
       "<div>\n",
       "<style scoped>\n",
       "    .dataframe tbody tr th:only-of-type {\n",
       "        vertical-align: middle;\n",
       "    }\n",
       "\n",
       "    .dataframe tbody tr th {\n",
       "        vertical-align: top;\n",
       "    }\n",
       "\n",
       "    .dataframe thead th {\n",
       "        text-align: right;\n",
       "    }\n",
       "</style>\n",
       "<table border=\"1\" class=\"dataframe\">\n",
       "  <thead>\n",
       "    <tr style=\"text-align: right;\">\n",
       "      <th></th>\n",
       "      <th>High</th>\n",
       "      <th>Low</th>\n",
       "      <th>Open</th>\n",
       "      <th>Close</th>\n",
       "      <th>Volume</th>\n",
       "      <th>Adj Close</th>\n",
       "      <th>Forecast</th>\n",
       "    </tr>\n",
       "    <tr>\n",
       "      <th>Date</th>\n",
       "      <th></th>\n",
       "      <th></th>\n",
       "      <th></th>\n",
       "      <th></th>\n",
       "      <th></th>\n",
       "      <th></th>\n",
       "      <th></th>\n",
       "    </tr>\n",
       "  </thead>\n",
       "  <tbody>\n",
       "    <tr>\n",
       "      <th>2018-12-13 00:00:00</th>\n",
       "      <td>101.0</td>\n",
       "      <td>97.800003</td>\n",
       "      <td>99.400002</td>\n",
       "      <td>101.000000</td>\n",
       "      <td>1031204.0</td>\n",
       "      <td>101.000000</td>\n",
       "      <td>NaN</td>\n",
       "    </tr>\n",
       "    <tr>\n",
       "      <th>2018-12-14 00:00:00</th>\n",
       "      <td>101.5</td>\n",
       "      <td>98.199997</td>\n",
       "      <td>101.000000</td>\n",
       "      <td>100.500000</td>\n",
       "      <td>646001.0</td>\n",
       "      <td>100.500000</td>\n",
       "      <td>NaN</td>\n",
       "    </tr>\n",
       "    <tr>\n",
       "      <th>2018-12-17 00:00:00</th>\n",
       "      <td>102.0</td>\n",
       "      <td>99.099998</td>\n",
       "      <td>99.300003</td>\n",
       "      <td>99.500000</td>\n",
       "      <td>589057.0</td>\n",
       "      <td>99.500000</td>\n",
       "      <td>NaN</td>\n",
       "    </tr>\n",
       "    <tr>\n",
       "      <th>2018-12-18 00:00:00</th>\n",
       "      <td>101.0</td>\n",
       "      <td>97.099998</td>\n",
       "      <td>99.000000</td>\n",
       "      <td>98.000000</td>\n",
       "      <td>488000.0</td>\n",
       "      <td>98.000000</td>\n",
       "      <td>NaN</td>\n",
       "    </tr>\n",
       "    <tr>\n",
       "      <th>2018-12-19 00:00:00</th>\n",
       "      <td>101.5</td>\n",
       "      <td>99.199997</td>\n",
       "      <td>100.000000</td>\n",
       "      <td>99.199997</td>\n",
       "      <td>848012.0</td>\n",
       "      <td>99.199997</td>\n",
       "      <td>NaN</td>\n",
       "    </tr>\n",
       "    <tr>\n",
       "      <th>2018-12-20 00:00:00</th>\n",
       "      <td>101.5</td>\n",
       "      <td>97.300003</td>\n",
       "      <td>99.300003</td>\n",
       "      <td>101.500000</td>\n",
       "      <td>831264.0</td>\n",
       "      <td>101.500000</td>\n",
       "      <td>NaN</td>\n",
       "    </tr>\n",
       "    <tr>\n",
       "      <th>2018-12-21 08:00:00</th>\n",
       "      <td>NaN</td>\n",
       "      <td>NaN</td>\n",
       "      <td>NaN</td>\n",
       "      <td>NaN</td>\n",
       "      <td>NaN</td>\n",
       "      <td>NaN</td>\n",
       "      <td>110.137507</td>\n",
       "    </tr>\n",
       "    <tr>\n",
       "      <th>2018-12-22 08:00:00</th>\n",
       "      <td>NaN</td>\n",
       "      <td>NaN</td>\n",
       "      <td>NaN</td>\n",
       "      <td>NaN</td>\n",
       "      <td>NaN</td>\n",
       "      <td>NaN</td>\n",
       "      <td>113.763882</td>\n",
       "    </tr>\n",
       "    <tr>\n",
       "      <th>2018-12-23 08:00:00</th>\n",
       "      <td>NaN</td>\n",
       "      <td>NaN</td>\n",
       "      <td>NaN</td>\n",
       "      <td>NaN</td>\n",
       "      <td>NaN</td>\n",
       "      <td>NaN</td>\n",
       "      <td>111.004507</td>\n",
       "    </tr>\n",
       "    <tr>\n",
       "      <th>2018-12-24 08:00:00</th>\n",
       "      <td>NaN</td>\n",
       "      <td>NaN</td>\n",
       "      <td>NaN</td>\n",
       "      <td>NaN</td>\n",
       "      <td>NaN</td>\n",
       "      <td>NaN</td>\n",
       "      <td>109.007583</td>\n",
       "    </tr>\n",
       "    <tr>\n",
       "      <th>2018-12-25 08:00:00</th>\n",
       "      <td>NaN</td>\n",
       "      <td>NaN</td>\n",
       "      <td>NaN</td>\n",
       "      <td>NaN</td>\n",
       "      <td>NaN</td>\n",
       "      <td>NaN</td>\n",
       "      <td>111.552949</td>\n",
       "    </tr>\n",
       "    <tr>\n",
       "      <th>2018-12-26 08:00:00</th>\n",
       "      <td>NaN</td>\n",
       "      <td>NaN</td>\n",
       "      <td>NaN</td>\n",
       "      <td>NaN</td>\n",
       "      <td>NaN</td>\n",
       "      <td>NaN</td>\n",
       "      <td>122.268679</td>\n",
       "    </tr>\n",
       "    <tr>\n",
       "      <th>2018-12-27 08:00:00</th>\n",
       "      <td>NaN</td>\n",
       "      <td>NaN</td>\n",
       "      <td>NaN</td>\n",
       "      <td>NaN</td>\n",
       "      <td>NaN</td>\n",
       "      <td>NaN</td>\n",
       "      <td>130.303369</td>\n",
       "    </tr>\n",
       "    <tr>\n",
       "      <th>2018-12-28 08:00:00</th>\n",
       "      <td>NaN</td>\n",
       "      <td>NaN</td>\n",
       "      <td>NaN</td>\n",
       "      <td>NaN</td>\n",
       "      <td>NaN</td>\n",
       "      <td>NaN</td>\n",
       "      <td>127.135740</td>\n",
       "    </tr>\n",
       "  </tbody>\n",
       "</table>\n",
       "</div>"
      ],
      "text/plain": [
       "                      High        Low        Open       Close     Volume  \\\n",
       "Date                                                                       \n",
       "2018-12-13 00:00:00  101.0  97.800003   99.400002  101.000000  1031204.0   \n",
       "2018-12-14 00:00:00  101.5  98.199997  101.000000  100.500000   646001.0   \n",
       "2018-12-17 00:00:00  102.0  99.099998   99.300003   99.500000   589057.0   \n",
       "2018-12-18 00:00:00  101.0  97.099998   99.000000   98.000000   488000.0   \n",
       "2018-12-19 00:00:00  101.5  99.199997  100.000000   99.199997   848012.0   \n",
       "2018-12-20 00:00:00  101.5  97.300003   99.300003  101.500000   831264.0   \n",
       "2018-12-21 08:00:00    NaN        NaN         NaN         NaN        NaN   \n",
       "2018-12-22 08:00:00    NaN        NaN         NaN         NaN        NaN   \n",
       "2018-12-23 08:00:00    NaN        NaN         NaN         NaN        NaN   \n",
       "2018-12-24 08:00:00    NaN        NaN         NaN         NaN        NaN   \n",
       "2018-12-25 08:00:00    NaN        NaN         NaN         NaN        NaN   \n",
       "2018-12-26 08:00:00    NaN        NaN         NaN         NaN        NaN   \n",
       "2018-12-27 08:00:00    NaN        NaN         NaN         NaN        NaN   \n",
       "2018-12-28 08:00:00    NaN        NaN         NaN         NaN        NaN   \n",
       "\n",
       "                      Adj Close    Forecast  \n",
       "Date                                         \n",
       "2018-12-13 00:00:00  101.000000         NaN  \n",
       "2018-12-14 00:00:00  100.500000         NaN  \n",
       "2018-12-17 00:00:00   99.500000         NaN  \n",
       "2018-12-18 00:00:00   98.000000         NaN  \n",
       "2018-12-19 00:00:00   99.199997         NaN  \n",
       "2018-12-20 00:00:00  101.500000         NaN  \n",
       "2018-12-21 08:00:00         NaN  110.137507  \n",
       "2018-12-22 08:00:00         NaN  113.763882  \n",
       "2018-12-23 08:00:00         NaN  111.004507  \n",
       "2018-12-24 08:00:00         NaN  109.007583  \n",
       "2018-12-25 08:00:00         NaN  111.552949  \n",
       "2018-12-26 08:00:00         NaN  122.268679  \n",
       "2018-12-27 08:00:00         NaN  130.303369  \n",
       "2018-12-28 08:00:00         NaN  127.135740  "
      ]
     },
     "execution_count": 59,
     "metadata": {},
     "output_type": "execute_result"
    }
   ],
   "source": [
    "a1526_df.tail(14)"
   ]
  },
  {
   "cell_type": "code",
   "execution_count": 60,
   "metadata": {
    "scrolled": true
   },
   "outputs": [
    {
     "data": {
      "image/png": "[encoded data removed]",
      "text/plain": [
       "<Figure size 864x864 with 1 Axes>"
      ]
     },
     "metadata": {},
     "output_type": "display_data"
    }
   ],
   "source": [
    "fig = plt.figure(figsize = (12,12))\n",
    "a1526_df['Adj Close'].plot()\n",
    "a1526_df['Forecast'].plot()\n",
    "plt.legend(loc=4)\n",
    "plt.xlabel('Date')\n",
    "plt.ylabel('Price')\n",
    "plt.show()"
   ]
  },
  {
   "cell_type": "code",
   "execution_count": null,
   "metadata": {},
   "outputs": [],
   "source": []
  },
  {
   "cell_type": "code",
   "execution_count": null,
   "metadata": {},
   "outputs": [],
   "source": []
  },
  {
   "cell_type": "code",
   "execution_count": null,
   "metadata": {},
   "outputs": [],
   "source": []
  }
 ],
 "metadata": {
  "kernelspec": {
   "display_name": "Python 3",
   "language": "python",
   "name": "python3"
  },
  "language_info": {
   "codemirror_mode": {
    "name": "ipython",
    "version": 3
   },
   "file_extension": ".py",
   "mimetype": "text/x-python",
   "name": "python",
   "nbconvert_exporter": "python",
   "pygments_lexer": "ipython3",
   "version": "3.7.5"
  }
 },
 "nbformat": 4,
 "nbformat_minor": 2
}
